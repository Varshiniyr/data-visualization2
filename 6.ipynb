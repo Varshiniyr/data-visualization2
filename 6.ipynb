{
 "cells": [
  {
   "cell_type": "code",
   "execution_count": 1,
   "id": "6d313310-661c-4e37-87d6-79cb7b60bcdd",
   "metadata": {},
   "outputs": [],
   "source": [
    "import requests\n",
    "import xml.etree.ElementTree as ET\n",
    "from flask import Flask, Response\n"
   ]
  },
  {
   "cell_type": "code",
   "execution_count": 3,
   "id": "f6285e29-e11c-4daa-b7d1-1ffea0c70136",
   "metadata": {},
   "outputs": [
    {
     "name": "stdout",
     "output_type": "stream",
     "text": [
      "XML Data Retrieved Successfully!\n",
      "\n",
      "Parsed Data:\n",
      "To: Tove\n",
      "From: Jani\n",
      "Heading: Reminder\n",
      "Body: Don't forget me this weekend!\n"
     ]
    }
   ],
   "source": [
    "def fetch_and_parse_xml(url):\n",
    "    # Fetch XML data from the web service\n",
    "    response = requests.get(url)\n",
    "    if response.status_code == 200:\n",
    "        print(\"XML Data Retrieved Successfully!\")\n",
    "        \n",
    "        # Parse the XML content\n",
    "        root = ET.fromstring(response.content)\n",
    "        print(\"\\nParsed Data:\")\n",
    "        \n",
    "         # Adjust parsing logic to match the XML structure\n",
    "        to = root.find(\"to\").text if root.find(\"to\") is not None else \"No 'to' tag found\"\n",
    "        from_ = root.find(\"from\").text if root.find(\"from\") is not None else \"No 'from' tag found\"\n",
    "        heading = root.find(\"heading\").text if root.find(\"heading\") is not None else \"No 'heading' tag found\"\n",
    "        body = root.find(\"body\").text if root.find(\"body\") is not None else \"No 'body' tag found\"\n",
    "\n",
    "        # Print the extracted information\n",
    "        print(f\"To: {to}\")\n",
    "        print(f\"From: {from_}\")\n",
    "        print(f\"Heading: {heading}\")\n",
    "        print(f\"Body: {body}\")\n",
    "    else:\n",
    "        print(f\"Failed to retrieve XML data. Status Code: {response.status_code}\")\n",
    "\n",
    "# Example Web Service URL (RSS Feed)\n",
    "xml_url = \"https://www.w3schools.com/xml/note.xml\" \n",
    "fetch_and_parse_xml(xml_url)\n",
    "\n",
    "\n"
   ]
  },
  {
   "cell_type": "code",
   "execution_count": null,
   "id": "ee348a2b-4838-4394-bd6a-5aebb36ac54e",
   "metadata": {},
   "outputs": [
    {
     "name": "stdout",
     "output_type": "stream",
     "text": [
      " * Serving Flask app '__main__'\n",
      " * Debug mode: on\n"
     ]
    },
    {
     "name": "stderr",
     "output_type": "stream",
     "text": [
      "WARNING: This is a development server. Do not use it in a production deployment. Use a production WSGI server instead.\n",
      " * Running on http://127.0.0.1:5000\n",
      "Press CTRL+C to quit\n",
      "127.0.0.1 - - [08/Dec/2024 13:50:09] \"GET /get-xml HTTP/1.1\" 200 -\n",
      "127.0.0.1 - - [08/Dec/2024 13:50:09] \"GET /favicon.ico HTTP/1.1\" 404 -\n"
     ]
    }
   ],
   "source": [
    "from flask import Flask, Response\n",
    "\n",
    "app = Flask(__name__)\n",
    "\n",
    "@app.route('/get-xml')\n",
    "def serve_xml():\n",
    "    # Example XML content\n",
    "    xml_content = \"\"\"<?xml version=\"1.0\" encoding=\"UTF-8\"?>\n",
    "    <note>\n",
    "        <to>Tove</to>\n",
    "        <from>Jani</from>\n",
    "        <heading>Reminder</heading>\n",
    "        <body>Don't forget me this weekend!</body>\n",
    "    </note>\"\"\"\n",
    "    \n",
    "    # Serve XML as a response\n",
    "    return Response(xml_content, mimetype='application/xml')\n",
    "\n",
    "if __name__ == \"__main__\":\n",
    "    app.run(debug=True, use_reloader=False, port=5000)  # Use_reloader disabled for stability"
   ]
  },
  {
   "cell_type": "code",
   "execution_count": null,
   "id": "6d842592-6ef2-4501-a5f0-8e66e4c94fa2",
   "metadata": {},
   "outputs": [],
   "source": []
  }
 ],
 "metadata": {
  "kernelspec": {
   "display_name": "Python 3 (ipykernel)",
   "language": "python",
   "name": "python3"
  },
  "language_info": {
   "codemirror_mode": {
    "name": "ipython",
    "version": 3
   },
   "file_extension": ".py",
   "mimetype": "text/x-python",
   "name": "python",
   "nbconvert_exporter": "python",
   "pygments_lexer": "ipython3",
   "version": "3.11.7"
  }
 },
 "nbformat": 4,
 "nbformat_minor": 5
}
